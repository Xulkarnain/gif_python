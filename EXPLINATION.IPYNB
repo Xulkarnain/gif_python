{
 "cells": [
  {
   "cell_type": "code",
   "execution_count": 1,
   "metadata": {},
   "outputs": [],
   "source": [
    "import imageio.v3 as im"
   ]
  },
  {
   "cell_type": "markdown",
   "metadata": {},
   "source": [
    "<small>\n",
    "\n",
    "### ✅ Purpose:\n",
    "- `import imageio.v3 as im`: Imports the imageio v3 module with alias `im` for reading and writing images efficiently.  \n",
    "\n",
    "---\n",
    "\n",
    "### 💡 How It Fits In:\n",
    "Allows access to image manipulation functions, such as reading and writing images, supporting multiple formats.  \n",
    "\n",
    "---\n",
    "\n",
    "### 👉 Example:\n",
    "Using `im.imread()` reads an image, and `im.imwrite()` writes images or creates GIFs.  \n",
    "\n",
    "</small>\n"
   ]
  },
  {
   "cell_type": "code",
   "execution_count": null,
   "metadata": {},
   "outputs": [],
   "source": [
    "im_names = ['m1.png', 'm2.png','m3.png', 'm4.png']\n",
    "images = []"
   ]
  },
  {
   "cell_type": "markdown",
   "metadata": {},
   "source": [
    "<small>\n",
    "\n",
    "### ✅ Purpose:\n",
    "- `im_names`: List of image file names to include in the GIF.  \n",
    "- `images`: Empty list to store loaded image data.  \n",
    "\n",
    "---\n",
    "\n",
    "### 💡 How It Fits In:\n",
    "Prepares the list of images for loading and processing in the next steps.  \n",
    "\n",
    "---\n",
    "\n",
    "### 👉 Example:\n",
    "`im_names` contains file names: `['m1.png', 'm2.png', 'm3.png', 'm4.png']`  \n",
    "`images` will hold the image data after loading.  \n",
    "\n",
    "</small>\n"
   ]
  },
  {
   "cell_type": "code",
   "execution_count": null,
   "metadata": {},
   "outputs": [],
   "source": [
    "for im_name in im_names:\n",
    "    images.append(im.imread(im_name))\n"
   ]
  },
  {
   "cell_type": "markdown",
   "metadata": {},
   "source": [
    "<small>\n",
    "\n",
    "### ✅ Purpose:\n",
    "- Iterates through `im_names` list.  \n",
    "- `im.imread(im_name)` reads each image using imageio v3.  \n",
    "- `images.append(...)` stores image data in the `images` list.  \n",
    "\n",
    "---\n",
    "\n",
    "### 💡 How It Fits In:\n",
    "Efficiently reads multiple images into a list for GIF creation.  \n",
    "\n",
    "---\n",
    "\n",
    "### 👉 Example After Loop:\n",
    "For `im_names = ['m1.png', 'm2.png', 'm3.png', 'm4.png']`,  \n",
    "`images` becomes:  \n",
    "\n",
    "```python\n",
    "[<image data for m1.png>, <image data for m2.png>, <image data for m3.png>, <image data for m4.png>]\n",
    "\n"
   ]
  },
  {
   "cell_type": "code",
   "execution_count": 4,
   "metadata": {},
   "outputs": [],
   "source": [
    "im.imwrite('messi.gif', images, duration = 500, loop = 0)"
   ]
  },
  {
   "cell_type": "markdown",
   "metadata": {},
   "source": [
    "<small>\n",
    "\n",
    "### ✅ Purpose:\n",
    "- Creates a GIF using `im.imwrite()` from imageio v3.  \n",
    "- `'messi.gif'`: Output file name.  \n",
    "- `images`: List of image data for GIF frames.  \n",
    "- `duration=500`: Each frame lasts 500 ms (0.5 seconds).  \n",
    "- `loop=0`: Infinite loop for continuous playback.  \n",
    "\n",
    "---\n",
    "\n",
    "### 💡 How It Fits In:\n",
    "Generates an animated GIF with specified duration and looping behavior.  \n",
    "\n",
    "---\n",
    "\n",
    "### 👉 Example Output:\n",
    "Creates a smooth, looping GIF named \"messi.gif\" with images from the list.  \n",
    "</small>\n"
   ]
  }
 ],
 "metadata": {
  "kernelspec": {
   "display_name": "Python 3",
   "language": "python",
   "name": "python3"
  },
  "language_info": {
   "codemirror_mode": {
    "name": "ipython",
    "version": 3
   },
   "file_extension": ".py",
   "mimetype": "text/x-python",
   "name": "python",
   "nbconvert_exporter": "python",
   "pygments_lexer": "ipython3",
   "version": "3.12.9"
  }
 },
 "nbformat": 4,
 "nbformat_minor": 2
}
